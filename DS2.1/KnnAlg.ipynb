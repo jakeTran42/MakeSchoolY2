{
 "cells": [
  {
   "cell_type": "code",
   "execution_count": 2,
   "metadata": {},
   "outputs": [
    {
     "name": "stderr",
     "output_type": "stream",
     "text": [
      "/Users/Insui/anaconda3/lib/python3.6/site-packages/sklearn/cross_validation.py:41: DeprecationWarning: This module was deprecated in version 0.18 in favor of the model_selection module into which all the refactored classes and functions are moved. Also note that the interface of the new CV iterators are different from that of this module. This module will be removed in 0.20.\n",
      "  \"This module will be removed in 0.20.\", DeprecationWarning)\n"
     ]
    }
   ],
   "source": [
    "import numpy as np\n",
    "import pandas as pd\n",
    "import matplotlib.pyplot as plt\n",
    "% matplotlib inline\n",
    "\n",
    "from sklearn.preprocessing import StandardScaler\n",
    "from sklearn.model_selection import train_test_split\n",
    "from sklearn.metrics import accuracy_score, confusion_matrix\n",
    "from sklearn.cross_validation import cross_val_score\n",
    "from sklearn.datasets import load_iris, load_wine\n",
    "\n",
    "from sklearn.neighbors import KNeighborsClassifier as KNNimport \n",
    "import numpy as np\n",
    "import pandas as pd\n",
    "import matplotlib.pyplot as plt\n",
    "% matplotlib inline\n",
    "\n",
    "from sklearn.preprocessing import StandardScaler\n",
    "from sklearn.model_selection import train_test_split\n",
    "from sklearn.metrics import accuracy_score, confusion_matrix\n",
    "from sklearn.cross_validation import cross_val_score\n",
    "from sklearn.datasets import load_iris, load_wine\n",
    "\n",
    "from sklearn.neighbors import KNeighborsClassifier as KNN"
   ]
  },
  {
   "cell_type": "code",
   "execution_count": 4,
   "metadata": {},
   "outputs": [
    {
     "data": {
      "text/plain": [
       "' Describes our datasets. '"
      ]
     },
     "execution_count": 4,
     "metadata": {},
     "output_type": "execute_result"
    }
   ],
   "source": [
    "\"\"\" Loads our datasets. \"\"\"\n",
    "iris = load_iris()\n",
    "wine = load_wine()\n",
    "\n",
    "\"\"\" Describes our datasets. \"\"\"\n",
    "# print(iris.DESCR)\n",
    "# print(wine.DESCR)"
   ]
  },
  {
   "cell_type": "code",
   "execution_count": 5,
   "metadata": {},
   "outputs": [
    {
     "data": {
      "text/plain": [
       "' Check untouched scaling on each column across Iris data. '"
      ]
     },
     "execution_count": 5,
     "metadata": {},
     "output_type": "execute_result"
    }
   ],
   "source": [
    "\"\"\" Create DataFrame objects to hold independent (X) and dependent/target (y) data for Iris dataset. \"\"\"\n",
    "iris_df = pd.DataFrame(data=iris.data, columns=iris.feature_names)\n",
    "iris_target = pd.DataFrame(data=iris.target, columns=[\"iris_type\"])\n",
    "# iris_df.head(5)\n",
    "\n",
    "\"\"\" Check untouched scaling on each column across Iris data. \"\"\"\n",
    "# (min(iris_df[\"sepal length (cm)\"]), max(iris_df[\"sepal length (cm)\"]))\n",
    "# (min(iris_df[\"sepal width (cm)\"]), max(iris_df[\"sepal width (cm)\"]))\n",
    "# (min(iris_df[\"petal length (cm)\"]), max(iris_df[\"petal length (cm)\"]))\n",
    "# (min(iris_df[\"petal width (cm)\"]), max(iris_df[\"petal width (cm)\"]))"
   ]
  },
  {
   "cell_type": "code",
   "execution_count": 21,
   "metadata": {
    "collapsed": true
   },
   "outputs": [],
   "source": [
    "\"\"\" Use train_test_split() to fracture data into training and testing samples for Iris data. \"\"\"\n",
    "X_train, X_test, y_train, y_test = train_test_split(iris_df, iris_target, test_size=0.33)\n",
    "y_train, y_test = np.ravel(y_train), np.ravel(y_test)"
   ]
  },
  {
   "cell_type": "code",
   "execution_count": 22,
   "metadata": {},
   "outputs": [
    {
     "data": {
      "text/plain": [
       "0.97999999999999998"
      ]
     },
     "execution_count": 22,
     "metadata": {},
     "output_type": "execute_result"
    }
   ],
   "source": [
    "\"\"\" Instantiates our algorithm. \"\"\"\n",
    "knn = KNN(n_neighbors=5)\n",
    "\n",
    "\"\"\" Fits our training data to the algorithm. \"\"\"\n",
    "knn.fit(X_train, y_train)\n",
    "\n",
    "\"\"\" Grabs predictions and calculates accuracy score for model. \"\"\"\n",
    "y_pred = knn.predict(X_test)\n",
    "knn.score(X_test, y_test)\n",
    "# accuracy_score(y_test, y_pred)"
   ]
  },
  {
   "cell_type": "code",
   "execution_count": 16,
   "metadata": {},
   "outputs": [
    {
     "data": {
      "text/plain": [
       "array([[18,  0,  0],\n",
       "       [ 0, 15,  0],\n",
       "       [ 0,  3, 14]])"
      ]
     },
     "execution_count": 16,
     "metadata": {},
     "output_type": "execute_result"
    }
   ],
   "source": [
    "cmat_knn = confusion_matrix(y_pred=y_pred, y_true=y_test)\n",
    "cmat_knn"
   ]
  },
  {
   "cell_type": "code",
   "execution_count": 26,
   "metadata": {},
   "outputs": [],
   "source": [
    "wine_df = pd.DataFrame(data=wine.data, columns=wine.feature_names)\n",
    "wine_target = pd.DataFrame(data=wine.target, columns=[\"wine_type\"])\n",
    "\n",
    "\"\"\" Initializes scaler object. \"\"\"\n",
    "scaler = StandardScaler()\n",
    "\n",
    "\"\"\" Fits our original data to the scaler object. \"\"\"\n",
    "scaler.fit(wine_df)\n",
    "\n",
    "\"\"\" Produces scaled dataset from fitted scaler object. \"\"\"\n",
    "scaled_wine = scaler.transform(wine_df)"
   ]
  },
  {
   "cell_type": "code",
   "execution_count": 27,
   "metadata": {},
   "outputs": [],
   "source": [
    "\"\"\" Use train_test_split() to fracture data into training and testing samples for Breast Cancer data. \"\"\"\n",
    "X_train, X_test, y_train, y_test = train_test_split(scaled_wine, wine_target, test_size=0.25)\n",
    "y_train, y_test = np.ravel(y_train), np.ravel(y_test)"
   ]
  },
  {
   "cell_type": "code",
   "execution_count": 28,
   "metadata": {},
   "outputs": [
    {
     "data": {
      "text/plain": [
       "0.97777777777777775"
      ]
     },
     "execution_count": 28,
     "metadata": {},
     "output_type": "execute_result"
    }
   ],
   "source": [
    "\"\"\" Same as before, let's fit our data to our model, run some predictions, and check the model's accuracy! \"\"\"\n",
    "knn = KNN(n_neighbors=5)\n",
    "knn.fit(X_train, y_train)\n",
    "y_pred = knn.predict(X_test)\n",
    "accuracy_score(y_test, y_pred)"
   ]
  },
  {
   "cell_type": "code",
   "execution_count": 29,
   "metadata": {},
   "outputs": [
    {
     "name": "stdout",
     "output_type": "stream",
     "text": [
      "The optimal number of neighbors is 21.\n",
      "\n"
     ]
    },
    {
     "data": {
      "image/png": "[encoded data removed]",
      "text/plain": [
       "<matplotlib.figure.Figure at 0x11523ebe0>"
      ]
     },
     "metadata": {},
     "output_type": "display_data"
    }
   ],
   "source": [
    "\"\"\" Creates list of potential odd k-values. \"\"\"\n",
    "k_values = list(range(1, 50))\n",
    "k_neighbors = list(filter(lambda x: x % 2 != 0, k_values))\n",
    "cross_val_scores = list()\n",
    "\n",
    "\"\"\" Performs 10-fold cross validation and grabs scores. \"\"\"\n",
    "for k in k_neighbors:\n",
    "    knn = KNN(n_neighbors=k)\n",
    "    acc_scores = cross_val_score(knn, X_train, y_train, cv=10, scoring=\"accuracy\")\n",
    "    cross_val_scores.append(acc_scores.mean())\n",
    "    \n",
    "\"\"\"  \"\"\"\n",
    "MSE = [1 - x for x in cross_val_scores]\n",
    "\n",
    "optimal_k = k_neighbors[MSE.index(min(MSE))]\n",
    "print(\"The optimal number of neighbors is {}.\\n\".format(optimal_k))\n",
    "\n",
    "plt.plot(k_neighbors, MSE)\n",
    "plt.xlabel('Number of Neighbors K')\n",
    "plt.ylabel('Misclassification Error')\n",
    "plt.show()"
   ]
  },
  {
   "cell_type": "code",
   "execution_count": null,
   "metadata": {
    "collapsed": true
   },
   "outputs": [],
   "source": []
  }
 ],
 "metadata": {
  "kernelspec": {
   "display_name": "Python 3",
   "language": "python",
   "name": "python3"
  },
  "language_info": {
   "codemirror_mode": {
    "name": "ipython",
    "version": 3
   },
   "file_extension": ".py",
   "mimetype": "text/x-python",
   "name": "python",
   "nbconvert_exporter": "python",
   "pygments_lexer": "ipython3",
   "version": "3.6.3"
  }
 },
 "nbformat": 4,
 "nbformat_minor": 2
}
