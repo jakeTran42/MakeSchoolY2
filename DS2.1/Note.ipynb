{
 "cells": [
  {
   "cell_type": "markdown",
   "metadata": {},
   "source": [
    "# Steps"
   ]
  },
  {
   "cell_type": "markdown",
   "metadata": {},
   "source": [
    "1. Find Dataset\n",
    "2. Identify Problem/Dataset\n",
    "3. Target vs Features\n",
    "4. Split Data\n",
    "5. Train Data\n",
    "6. Fit the Data\n",
    "7. Predict \n",
    "8. Evaluate the Model (get scores) "
   ]
  },
  {
   "cell_type": "markdown",
   "metadata": {},
   "source": [
    "### Regression Evaluation\n",
    "1. MSE\n",
    "2. MAE\n",
    "3. MRE\n",
    "\n",
    "### Classification Evaluation\n",
    "1. Accuracy\n",
    "2. f1_score\n",
    "3. Precision\n",
    "4. Recall"
   ]
  },
  {
   "cell_type": "markdown",
   "metadata": {},
   "source": [
    "## How to make the model better?\n",
    "\n",
    "1. Change proportion of test data\n",
    "2. Change kernal\n",
    "3. Do grid search for Parameters\n",
    "4. Dimensionality Reduction\n",
    "5. Preprocessing -normalize -transform\n",
    "6. Change the classifier family (Logistic Regression)"
   ]
  },
  {
   "cell_type": "code",
   "execution_count": null,
   "metadata": {
    "collapsed": true
   },
   "outputs": [],
   "source": []
  }
 ],
 "metadata": {
  "kernelspec": {
   "display_name": "Python 3",
   "language": "python",
   "name": "python3"
  },
  "language_info": {
   "codemirror_mode": {
    "name": "ipython",
    "version": 3
   },
   "file_extension": ".py",
   "mimetype": "text/x-python",
   "name": "python",
   "nbconvert_exporter": "python",
   "pygments_lexer": "ipython3",
   "version": "3.6.3"
  }
 },
 "nbformat": 4,
 "nbformat_minor": 2
}
