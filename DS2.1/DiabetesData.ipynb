{
 "cells": [
  {
   "cell_type": "code",
   "execution_count": 27,
   "metadata": {
    "collapsed": true
   },
   "outputs": [],
   "source": [
    "import numpy as np\n",
    "import pandas as pd\n",
    "import matplotlib.pyplot as plt\n",
    "\n",
    "from sklearn.model_selection import train_test_split\n",
    "from sklearn.linear_model import LogisticRegression\n",
    "import matplotlib.pyplot as plt\n",
    "from sklearn.metrics import confusion_matrix\n",
    "from sklearn import metrics\n",
    "%matplotlib inline"
   ]
  },
  {
   "cell_type": "code",
   "execution_count": 2,
   "metadata": {
    "collapsed": true
   },
   "outputs": [],
   "source": [
    "data = pd.read_csv('diabetes.csv')"
   ]
  },
  {
   "cell_type": "code",
   "execution_count": 3,
   "metadata": {},
   "outputs": [
    {
     "data": {
      "text/html": [
       "<div>\n",
       "<style>\n",
       "    .dataframe thead tr:only-child th {\n",
       "        text-align: right;\n",
       "    }\n",
       "\n",
       "    .dataframe thead th {\n",
       "        text-align: left;\n",
       "    }\n",
       "\n",
       "    .dataframe tbody tr th {\n",
       "        vertical-align: top;\n",
       "    }\n",
       "</style>\n",
       "<table border=\"1\" class=\"dataframe\">\n",
       "  <thead>\n",
       "    <tr style=\"text-align: right;\">\n",
       "      <th></th>\n",
       "      <th>Pregnancies</th>\n",
       "      <th>Glucose</th>\n",
       "      <th>BloodPressure</th>\n",
       "      <th>SkinThickness</th>\n",
       "      <th>Insulin</th>\n",
       "      <th>BMI</th>\n",
       "      <th>DiabetesPedigreeFunction</th>\n",
       "      <th>Age</th>\n",
       "      <th>Outcome</th>\n",
       "    </tr>\n",
       "  </thead>\n",
       "  <tbody>\n",
       "    <tr>\n",
       "      <th>0</th>\n",
       "      <td>6</td>\n",
       "      <td>148</td>\n",
       "      <td>72</td>\n",
       "      <td>35</td>\n",
       "      <td>0</td>\n",
       "      <td>33.6</td>\n",
       "      <td>0.627</td>\n",
       "      <td>50</td>\n",
       "      <td>1</td>\n",
       "    </tr>\n",
       "    <tr>\n",
       "      <th>1</th>\n",
       "      <td>1</td>\n",
       "      <td>85</td>\n",
       "      <td>66</td>\n",
       "      <td>29</td>\n",
       "      <td>0</td>\n",
       "      <td>26.6</td>\n",
       "      <td>0.351</td>\n",
       "      <td>31</td>\n",
       "      <td>0</td>\n",
       "    </tr>\n",
       "    <tr>\n",
       "      <th>2</th>\n",
       "      <td>8</td>\n",
       "      <td>183</td>\n",
       "      <td>64</td>\n",
       "      <td>0</td>\n",
       "      <td>0</td>\n",
       "      <td>23.3</td>\n",
       "      <td>0.672</td>\n",
       "      <td>32</td>\n",
       "      <td>1</td>\n",
       "    </tr>\n",
       "    <tr>\n",
       "      <th>3</th>\n",
       "      <td>1</td>\n",
       "      <td>89</td>\n",
       "      <td>66</td>\n",
       "      <td>23</td>\n",
       "      <td>94</td>\n",
       "      <td>28.1</td>\n",
       "      <td>0.167</td>\n",
       "      <td>21</td>\n",
       "      <td>0</td>\n",
       "    </tr>\n",
       "    <tr>\n",
       "      <th>4</th>\n",
       "      <td>0</td>\n",
       "      <td>137</td>\n",
       "      <td>40</td>\n",
       "      <td>35</td>\n",
       "      <td>168</td>\n",
       "      <td>43.1</td>\n",
       "      <td>2.288</td>\n",
       "      <td>33</td>\n",
       "      <td>1</td>\n",
       "    </tr>\n",
       "  </tbody>\n",
       "</table>\n",
       "</div>"
      ],
      "text/plain": [
       "   Pregnancies  Glucose  BloodPressure  SkinThickness  Insulin   BMI  \\\n",
       "0            6      148             72             35        0  33.6   \n",
       "1            1       85             66             29        0  26.6   \n",
       "2            8      183             64              0        0  23.3   \n",
       "3            1       89             66             23       94  28.1   \n",
       "4            0      137             40             35      168  43.1   \n",
       "\n",
       "   DiabetesPedigreeFunction  Age  Outcome  \n",
       "0                     0.627   50        1  \n",
       "1                     0.351   31        0  \n",
       "2                     0.672   32        1  \n",
       "3                     0.167   21        0  \n",
       "4                     2.288   33        1  "
      ]
     },
     "execution_count": 3,
     "metadata": {},
     "output_type": "execute_result"
    }
   ],
   "source": [
    "data.head()"
   ]
  },
  {
   "cell_type": "code",
   "execution_count": 4,
   "metadata": {},
   "outputs": [
    {
     "data": {
      "text/html": [
       "<div>\n",
       "<style>\n",
       "    .dataframe thead tr:only-child th {\n",
       "        text-align: right;\n",
       "    }\n",
       "\n",
       "    .dataframe thead th {\n",
       "        text-align: left;\n",
       "    }\n",
       "\n",
       "    .dataframe tbody tr th {\n",
       "        vertical-align: top;\n",
       "    }\n",
       "</style>\n",
       "<table border=\"1\" class=\"dataframe\">\n",
       "  <thead>\n",
       "    <tr style=\"text-align: right;\">\n",
       "      <th></th>\n",
       "      <th>Pregnancies</th>\n",
       "      <th>Insulin</th>\n",
       "      <th>BMI</th>\n",
       "      <th>Age</th>\n",
       "      <th>Outcome</th>\n",
       "    </tr>\n",
       "  </thead>\n",
       "  <tbody>\n",
       "    <tr>\n",
       "      <th>0</th>\n",
       "      <td>6</td>\n",
       "      <td>0</td>\n",
       "      <td>33.6</td>\n",
       "      <td>50</td>\n",
       "      <td>1</td>\n",
       "    </tr>\n",
       "    <tr>\n",
       "      <th>1</th>\n",
       "      <td>1</td>\n",
       "      <td>0</td>\n",
       "      <td>26.6</td>\n",
       "      <td>31</td>\n",
       "      <td>0</td>\n",
       "    </tr>\n",
       "    <tr>\n",
       "      <th>2</th>\n",
       "      <td>8</td>\n",
       "      <td>0</td>\n",
       "      <td>23.3</td>\n",
       "      <td>32</td>\n",
       "      <td>1</td>\n",
       "    </tr>\n",
       "    <tr>\n",
       "      <th>3</th>\n",
       "      <td>1</td>\n",
       "      <td>94</td>\n",
       "      <td>28.1</td>\n",
       "      <td>21</td>\n",
       "      <td>0</td>\n",
       "    </tr>\n",
       "    <tr>\n",
       "      <th>4</th>\n",
       "      <td>0</td>\n",
       "      <td>168</td>\n",
       "      <td>43.1</td>\n",
       "      <td>33</td>\n",
       "      <td>1</td>\n",
       "    </tr>\n",
       "  </tbody>\n",
       "</table>\n",
       "</div>"
      ],
      "text/plain": [
       "   Pregnancies  Insulin   BMI  Age  Outcome\n",
       "0            6        0  33.6   50        1\n",
       "1            1        0  26.6   31        0\n",
       "2            8        0  23.3   32        1\n",
       "3            1       94  28.1   21        0\n",
       "4            0      168  43.1   33        1"
      ]
     },
     "execution_count": 4,
     "metadata": {},
     "output_type": "execute_result"
    }
   ],
   "source": [
    "data = data.drop([\"Glucose\", \"SkinThickness\", \"DiabetesPedigreeFunction\", \"BloodPressure\"], axis=1)\n",
    "data.head()"
   ]
  },
  {
   "cell_type": "code",
   "execution_count": 5,
   "metadata": {
    "collapsed": true
   },
   "outputs": [],
   "source": [
    "X = data.drop(\"Outcome\", axis=1)\n",
    "Y = data[\"Outcome\"]"
   ]
  },
  {
   "cell_type": "code",
   "execution_count": 6,
   "metadata": {
    "collapsed": true
   },
   "outputs": [],
   "source": [
    "X_train, X_test, Y_train, Y_test = train_test_split(X, Y, test_size=0.25, random_state=0)"
   ]
  },
  {
   "cell_type": "code",
   "execution_count": 7,
   "metadata": {},
   "outputs": [
    {
     "name": "stdout",
     "output_type": "stream",
     "text": [
      "(576, 4)\n",
      "(192, 4)\n",
      "(576,)\n",
      "(192,)\n"
     ]
    }
   ],
   "source": [
    "print(X_train.shape)\n",
    "print(X_test.shape)\n",
    "print(Y_train.shape)\n",
    "print(Y_test.shape)"
   ]
  },
  {
   "cell_type": "code",
   "execution_count": 8,
   "metadata": {
    "collapsed": true
   },
   "outputs": [],
   "source": [
    "model = LogisticRegression()"
   ]
  },
  {
   "cell_type": "code",
   "execution_count": 9,
   "metadata": {},
   "outputs": [
    {
     "data": {
      "text/plain": [
       "LogisticRegression(C=1.0, class_weight=None, dual=False, fit_intercept=True,\n",
       "          intercept_scaling=1, max_iter=100, multi_class='ovr', n_jobs=1,\n",
       "          penalty='l2', random_state=None, solver='liblinear', tol=0.0001,\n",
       "          verbose=0, warm_start=False)"
      ]
     },
     "execution_count": 9,
     "metadata": {},
     "output_type": "execute_result"
    }
   ],
   "source": [
    "model.fit(X_train, Y_train)"
   ]
  },
  {
   "cell_type": "code",
   "execution_count": 10,
   "metadata": {},
   "outputs": [
    {
     "data": {
      "text/plain": [
       "<matplotlib.collections.PathCollection at 0x10be7eda0>"
      ]
     },
     "execution_count": 10,
     "metadata": {},
     "output_type": "execute_result"
    },
    {
     "data": {
      "image/png": "[encoded data removed]",
      "text/plain": [
       "<matplotlib.figure.Figure at 0x109089dd8>"
      ]
     },
     "metadata": {},
     "output_type": "display_data"
    }
   ],
   "source": [
    "Y_pred = model.predict(X_test)\n",
    "plt.scatter(Y_test, Y_pred)"
   ]
  },
  {
   "cell_type": "code",
   "execution_count": 36,
   "metadata": {},
   "outputs": [
    {
     "data": {
      "text/plain": [
       "array([[118,  12],\n",
       "       [ 47,  15]])"
      ]
     },
     "execution_count": 36,
     "metadata": {},
     "output_type": "execute_result"
    }
   ],
   "source": [
    "arr = confusion_matrix(Y_test, Y_pred)\n",
    "arr"
   ]
  },
  {
   "cell_type": "code",
   "execution_count": 12,
   "metadata": {},
   "outputs": [
    {
     "data": {
      "text/plain": [
       "0    130\n",
       "1     62\n",
       "Name: Outcome, dtype: int64"
      ]
     },
     "execution_count": 12,
     "metadata": {},
     "output_type": "execute_result"
    }
   ],
   "source": [
    "Y_test.value_counts()"
   ]
  },
  {
   "cell_type": "code",
   "execution_count": 52,
   "metadata": {},
   "outputs": [
    {
     "name": "stdout",
     "output_type": "stream",
     "text": [
      "accuracy: 0.692708333333 \n",
      "error: 0.307291666667 \n",
      "recall: 0.241935483871 \n",
      "precision: 0.555555555556 \n",
      "specificity: 0.907692307692\n"
     ]
    }
   ],
   "source": [
    "TN = arr[0][0]\n",
    "FP = arr[0][1]\n",
    "FN = arr[1][0]\n",
    "TP = arr[1][1]\n",
    "\n",
    "accuracy = (TP + TN) / (TP + FP + FN + TN)\n",
    "error = (FP + FN) / (TP + FP + FN + TN)\n",
    "recall = TP / (TP + FN)\n",
    "precision = TP / (FP + TP)\n",
    "specificity = TN / (TN + FP)\n",
    "print('accuracy:', accuracy, '\\nerror:', error, '\\nrecall:', recall, '\\nprecision:', precision, '\\nspecificity:', specificity)"
   ]
  },
  {
   "cell_type": "code",
   "execution_count": 66,
   "metadata": {},
   "outputs": [
    {
     "name": "stdout",
     "output_type": "stream",
     "text": [
      "\n",
      " 0.692708333333 \n",
      " 0.307291666667 \n",
      " 0.241935483871 \n",
      " 0.555555555556 \n",
      " 0.337078651685\n"
     ]
    }
   ],
   "source": [
    "trueAcc = metrics.accuracy_score(Y_test, Y_pred)\n",
    "truePrec = metrics.precision_score(Y_test, Y_pred)\n",
    "trueRecall = metrics.recall_score(Y_test, Y_pred)\n",
    "f1_score = metrics.f1_score(Y_test, Y_pred)\n",
    "true_error = metrics.brier_score_loss(Y_test, Y_pred)\n",
    "\n",
    "print('\\n', trueAcc, '\\n', true_error, '\\n', trueRecall, '\\n', truePrec, '\\n', f1_score)"
   ]
  },
  {
   "cell_type": "code",
   "execution_count": 67,
   "metadata": {},
   "outputs": [
    {
     "data": {
      "text/plain": [
       "array([[ 0.63247571,  0.36752429],\n",
       "       [ 0.71643656,  0.28356344],\n",
       "       [ 0.71104114,  0.28895886],\n",
       "       [ 0.5858938 ,  0.4141062 ],\n",
       "       [ 0.84103973,  0.15896027],\n",
       "       [ 0.82934844,  0.17065156],\n",
       "       [ 0.50110974,  0.49889026],\n",
       "       [ 0.48658459,  0.51341541],\n",
       "       [ 0.72321388,  0.27678612],\n",
       "       [ 0.32810562,  0.67189438],\n",
       "       [ 0.64244443,  0.35755557],\n",
       "       [ 0.25912035,  0.74087965],\n",
       "       [ 0.63949765,  0.36050235],\n",
       "       [ 0.76987637,  0.23012363],\n",
       "       [ 0.57345769,  0.42654231],\n",
       "       [ 0.80896485,  0.19103515],\n",
       "       [ 0.54236399,  0.45763601],\n",
       "       [ 0.8809859 ,  0.1190141 ],\n",
       "       [ 0.56071047,  0.43928953],\n",
       "       [ 0.63038849,  0.36961151],\n",
       "       [ 0.55812011,  0.44187989],\n",
       "       [ 0.62388338,  0.37611662],\n",
       "       [ 0.80183978,  0.19816022],\n",
       "       [ 0.58322696,  0.41677304],\n",
       "       [ 0.84451719,  0.15548281],\n",
       "       [ 0.7468329 ,  0.2531671 ],\n",
       "       [ 0.90256923,  0.09743077],\n",
       "       [ 0.30366288,  0.69633712],\n",
       "       [ 0.84641691,  0.15358309],\n",
       "       [ 0.7802164 ,  0.2197836 ],\n",
       "       [ 0.56905168,  0.43094832],\n",
       "       [ 0.65783942,  0.34216058],\n",
       "       [ 0.77603886,  0.22396114],\n",
       "       [ 0.61926457,  0.38073543],\n",
       "       [ 0.86657866,  0.13342134],\n",
       "       [ 0.61209784,  0.38790216],\n",
       "       [ 0.52950297,  0.47049703],\n",
       "       [ 0.83795257,  0.16204743],\n",
       "       [ 0.70451824,  0.29548176],\n",
       "       [ 0.69081839,  0.30918161],\n",
       "       [ 0.72700295,  0.27299705],\n",
       "       [ 0.61183417,  0.38816583],\n",
       "       [ 0.72646557,  0.27353443],\n",
       "       [ 0.71118959,  0.28881041],\n",
       "       [ 0.36528086,  0.63471914],\n",
       "       [ 0.97634749,  0.02365251],\n",
       "       [ 0.84179352,  0.15820648],\n",
       "       [ 0.76981625,  0.23018375],\n",
       "       [ 0.6515407 ,  0.3484593 ],\n",
       "       [ 0.72419959,  0.27580041],\n",
       "       [ 0.66735896,  0.33264104],\n",
       "       [ 0.75119404,  0.24880596],\n",
       "       [ 0.25510488,  0.74489512],\n",
       "       [ 0.60998536,  0.39001464],\n",
       "       [ 0.58374455,  0.41625545],\n",
       "       [ 0.86424313,  0.13575687],\n",
       "       [ 0.81104624,  0.18895376],\n",
       "       [ 0.35222318,  0.64777682],\n",
       "       [ 0.81077869,  0.18922131],\n",
       "       [ 0.94314096,  0.05685904],\n",
       "       [ 0.36008453,  0.63991547],\n",
       "       [ 0.53363618,  0.46636382],\n",
       "       [ 0.8749028 ,  0.1250972 ],\n",
       "       [ 0.73042398,  0.26957602],\n",
       "       [ 0.75080896,  0.24919104],\n",
       "       [ 0.69429604,  0.30570396],\n",
       "       [ 0.53623776,  0.46376224],\n",
       "       [ 0.79036905,  0.20963095],\n",
       "       [ 0.57152171,  0.42847829],\n",
       "       [ 0.59237736,  0.40762264],\n",
       "       [ 0.79830904,  0.20169096],\n",
       "       [ 0.72972934,  0.27027066],\n",
       "       [ 0.73744144,  0.26255856],\n",
       "       [ 0.42761737,  0.57238263],\n",
       "       [ 0.54532959,  0.45467041],\n",
       "       [ 0.72283848,  0.27716152],\n",
       "       [ 0.41998719,  0.58001281],\n",
       "       [ 0.58400512,  0.41599488],\n",
       "       [ 0.72723899,  0.27276101],\n",
       "       [ 0.65900777,  0.34099223],\n",
       "       [ 0.45373422,  0.54626578],\n",
       "       [ 0.62069277,  0.37930723],\n",
       "       [ 0.7007795 ,  0.2992205 ],\n",
       "       [ 0.89940831,  0.10059169],\n",
       "       [ 0.67127398,  0.32872602],\n",
       "       [ 0.54898637,  0.45101363],\n",
       "       [ 0.83963021,  0.16036979],\n",
       "       [ 0.5103025 ,  0.4896975 ],\n",
       "       [ 0.36769492,  0.63230508],\n",
       "       [ 0.59261596,  0.40738404],\n",
       "       [ 0.80205603,  0.19794397],\n",
       "       [ 0.80301979,  0.19698021],\n",
       "       [ 0.75536792,  0.24463208],\n",
       "       [ 0.88852815,  0.11147185],\n",
       "       [ 0.5841403 ,  0.4158597 ],\n",
       "       [ 0.78438144,  0.21561856],\n",
       "       [ 0.45875471,  0.54124529],\n",
       "       [ 0.51196398,  0.48803602],\n",
       "       [ 0.35347233,  0.64652767],\n",
       "       [ 0.66059342,  0.33940658],\n",
       "       [ 0.45736573,  0.54263427],\n",
       "       [ 0.83786176,  0.16213824],\n",
       "       [ 0.6221259 ,  0.3778741 ],\n",
       "       [ 0.88688713,  0.11311287],\n",
       "       [ 0.65218013,  0.34781987],\n",
       "       [ 0.65957216,  0.34042784],\n",
       "       [ 0.8209015 ,  0.1790985 ],\n",
       "       [ 0.78675188,  0.21324812],\n",
       "       [ 0.85289054,  0.14710946],\n",
       "       [ 0.76985898,  0.23014102],\n",
       "       [ 0.81595408,  0.18404592],\n",
       "       [ 0.47775351,  0.52224649],\n",
       "       [ 0.52900634,  0.47099366],\n",
       "       [ 0.71115752,  0.28884248],\n",
       "       [ 0.50674921,  0.49325079],\n",
       "       [ 0.58255527,  0.41744473],\n",
       "       [ 0.77084992,  0.22915008],\n",
       "       [ 0.72977089,  0.27022911],\n",
       "       [ 0.80756076,  0.19243924],\n",
       "       [ 0.2501287 ,  0.7498713 ],\n",
       "       [ 0.53499907,  0.46500093],\n",
       "       [ 0.3354546 ,  0.6645454 ],\n",
       "       [ 0.57901401,  0.42098599],\n",
       "       [ 0.46435966,  0.53564034],\n",
       "       [ 0.83965298,  0.16034702],\n",
       "       [ 0.8564314 ,  0.1435686 ],\n",
       "       [ 0.61857574,  0.38142426],\n",
       "       [ 0.66172686,  0.33827314],\n",
       "       [ 0.6369935 ,  0.3630065 ],\n",
       "       [ 0.87157469,  0.12842531],\n",
       "       [ 0.71666307,  0.28333693],\n",
       "       [ 0.95994442,  0.04005558],\n",
       "       [ 0.81518861,  0.18481139],\n",
       "       [ 0.33283053,  0.66716947],\n",
       "       [ 0.53647126,  0.46352874],\n",
       "       [ 0.51284318,  0.48715682],\n",
       "       [ 0.80089206,  0.19910794],\n",
       "       [ 0.54138349,  0.45861651],\n",
       "       [ 0.76783279,  0.23216721],\n",
       "       [ 0.81630733,  0.18369267],\n",
       "       [ 0.73608006,  0.26391994],\n",
       "       [ 0.62507031,  0.37492969],\n",
       "       [ 0.87083494,  0.12916506],\n",
       "       [ 0.58586087,  0.41413913],\n",
       "       [ 0.57539142,  0.42460858],\n",
       "       [ 0.86167809,  0.13832191],\n",
       "       [ 0.79218306,  0.20781694],\n",
       "       [ 0.70522301,  0.29477699],\n",
       "       [ 0.84174901,  0.15825099],\n",
       "       [ 0.63983766,  0.36016234],\n",
       "       [ 0.76258551,  0.23741449],\n",
       "       [ 0.56649311,  0.43350689],\n",
       "       [ 0.79380119,  0.20619881],\n",
       "       [ 0.76837662,  0.23162338],\n",
       "       [ 0.38888459,  0.61111541],\n",
       "       [ 0.80268991,  0.19731009],\n",
       "       [ 0.19928502,  0.80071498],\n",
       "       [ 0.82191509,  0.17808491],\n",
       "       [ 0.63511265,  0.36488735],\n",
       "       [ 0.21381357,  0.78618643],\n",
       "       [ 0.55919386,  0.44080614],\n",
       "       [ 0.63440346,  0.36559654],\n",
       "       [ 0.88239862,  0.11760138],\n",
       "       [ 0.77156675,  0.22843325],\n",
       "       [ 0.52134931,  0.47865069],\n",
       "       [ 0.78679475,  0.21320525],\n",
       "       [ 0.48501479,  0.51498521],\n",
       "       [ 0.83877506,  0.16122494],\n",
       "       [ 0.76259881,  0.23740119],\n",
       "       [ 0.70625609,  0.29374391],\n",
       "       [ 0.83329952,  0.16670048],\n",
       "       [ 0.51283474,  0.48716526],\n",
       "       [ 0.70030106,  0.29969894],\n",
       "       [ 0.55348957,  0.44651043],\n",
       "       [ 0.49830098,  0.50169902],\n",
       "       [ 0.70753494,  0.29246506],\n",
       "       [ 0.38263772,  0.61736228],\n",
       "       [ 0.58406005,  0.41593995],\n",
       "       [ 0.74179055,  0.25820945],\n",
       "       [ 0.8258032 ,  0.1741968 ],\n",
       "       [ 0.66480459,  0.33519541],\n",
       "       [ 0.30393175,  0.69606825],\n",
       "       [ 0.67545632,  0.32454368],\n",
       "       [ 0.64269574,  0.35730426],\n",
       "       [ 0.7663053 ,  0.2336947 ],\n",
       "       [ 0.76261476,  0.23738524],\n",
       "       [ 0.61590682,  0.38409318],\n",
       "       [ 0.75308588,  0.24691412],\n",
       "       [ 0.72045448,  0.27954552],\n",
       "       [ 0.81498826,  0.18501174],\n",
       "       [ 0.7377638 ,  0.2622362 ],\n",
       "       [ 0.72143074,  0.27856926]])"
      ]
     },
     "execution_count": 67,
     "metadata": {},
     "output_type": "execute_result"
    }
   ],
   "source": [
    "model.predict_proba(X_test)"
   ]
  },
  {
   "cell_type": "code",
   "execution_count": null,
   "metadata": {},
   "outputs": [],
   "source": []
  },
  {
   "cell_type": "code",
   "execution_count": null,
   "metadata": {
    "collapsed": true
   },
   "outputs": [],
   "source": []
  }
 ],
 "metadata": {
  "kernelspec": {
   "display_name": "Python 3",
   "language": "python",
   "name": "python3"
  },
  "language_info": {
   "codemirror_mode": {
    "name": "ipython",
    "version": 3
   },
   "file_extension": ".py",
   "mimetype": "text/x-python",
   "name": "python",
   "nbconvert_exporter": "python",
   "pygments_lexer": "ipython3",
   "version": "3.6.3"
  }
 },
 "nbformat": 4,
 "nbformat_minor": 2
}
